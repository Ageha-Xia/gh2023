{
 "cells": [
  {
   "cell_type": "code",
   "execution_count": 1,
   "metadata": {},
   "outputs": [],
   "source": [
    "import numpy as np\n",
    "import h5py\n",
    "import matplotlib.pyplot as plt\n",
    "import pandas as pd\n",
    "from tqdm import tqdm\n",
    "from scipy.interpolate import griddata\n",
    "from pyinstrument import Profiler"
   ]
  },
  {
   "cell_type": "code",
   "execution_count": 2,
   "metadata": {},
   "outputs": [],
   "source": [
    "dataset_count = 19        \n",
    "dataset_prefix = '../data/'"
   ]
  },
  {
   "cell_type": "code",
   "execution_count": 3,
   "metadata": {},
   "outputs": [],
   "source": [
    "# Read the geometry of detector\n",
    "with h5py.File(f'{dataset_prefix}geo.h5', 'r') as geo_file:\n",
    "    ChannelID_ = geo_file['Geometry']['ChannelID']\n",
    "    theta_ = geo_file['Geometry']['theta']\n",
    "    phi_ = geo_file['Geometry']['phi'] - 180 # let phi in [-180, 180]\n",
    "    geo_dict = {key: (val1, val2) for key, val1, val2 in zip(ChannelID_, theta_, phi_)}"
   ]
  },
  {
   "cell_type": "code",
   "execution_count": 4,
   "metadata": {},
   "outputs": [],
   "source": [
    "# Count events in datasets\n",
    "event_count = np.zeros(dataset_count, dtype=int)\n",
    "\n",
    "for data_id in range(dataset_count):\n",
    "    with h5py.File(f'{dataset_prefix}{16930+data_id}.h5', 'r') as data_file: \n",
    "        event_count[data_id] = data_file['ParticleTruth'].shape[0]\n",
    "\n",
    "event_total = event_count.sum()"
   ]
  },
  {
   "cell_type": "code",
   "execution_count": 5,
   "metadata": {},
   "outputs": [
    {
     "name": "stderr",
     "output_type": "stream",
     "text": [
      "  0%|          | 0/10000 [00:00<?, ?it/s]"
     ]
    },
    {
     "name": "stdout",
     "output_type": "stream",
     "text": [
      "\n",
      "  _     ._   __/__   _ _  _  _ _/_   Recorded: 00:29:12  Samples:  45\n",
      " /_//_/// /_\\ / //_// / //_'/ //     Duration: 3.679     CPU time: 3.690\n",
      "/   _/                      v4.6.1\n",
      "\n",
      "Program: /data/xiazy/miniconda3/lib/python3.11/site-packages/ipykernel_launcher.py --f=/home/pinn-benchmark/.local/share/jupyter/runtime/kernel-v2-39925zqz4nnuK0xdu.json\n",
      "\n",
      "\u001b[31m3.678\u001b[0m \u001b[48;5;24m\u001b[38;5;15m<module>\u001b[0m  \u001b[2m../../../../tmp/ipykernel_53459/947811341.py:1\u001b[0m\n",
      "├─ \u001b[31m3.486\u001b[0m \u001b[48;5;24m\u001b[38;5;15mgreen_func\u001b[0m  \u001b[2m../../../../tmp/ipykernel_53459/947811341.py:50\u001b[0m\n",
      "│  ├─ \u001b[31m3.390\u001b[0m [self]\u001b[0m  \u001b[2m../../../../tmp/ipykernel_53459/947811341.py\u001b[0m\n",
      "│  └─ \u001b[92m\u001b[2m0.096\u001b[0m sum\u001b[0m  \u001b[2mnumpy/core/fromnumeric.py:2177\u001b[0m\n",
      "│        [3 frames hidden]  \u001b[2mnumpy, <built-in>\u001b[0m\n",
      "└─ \u001b[92m\u001b[2m0.150\u001b[0m [self]\u001b[0m  \u001b[2m../../../../tmp/ipykernel_53459/947811341.py\u001b[0m\n",
      "\n",
      "\n"
     ]
    },
    {
     "name": "stderr",
     "output_type": "stream",
     "text": [
      "  0%|          | 0/10000 [00:20<?, ?it/s]\n"
     ]
    },
    {
     "ename": "KeyboardInterrupt",
     "evalue": "",
     "output_type": "error",
     "traceback": [
      "\u001b[0;31m---------------------------------------------------------------------------\u001b[0m",
      "\u001b[0;31mKeyboardInterrupt\u001b[0m                         Traceback (most recent call last)",
      "\u001b[1;32m/data/xiazy/gh2023/main/data_loader.ipynb 单元格 5\u001b[0m line \u001b[0;36m1\n\u001b[1;32m     <a href='vscode-notebook-cell://ssh-remote%2Bg25/data/xiazy/gh2023/main/data_loader.ipynb#W4sdnNjb2RlLXJlbW90ZQ%3D%3D?line=15'>16</a>\u001b[0m ChannelID_ \u001b[39m=\u001b[39m data_file[\u001b[39m'\u001b[39m\u001b[39mPETruth\u001b[39m\u001b[39m'\u001b[39m][\u001b[39m'\u001b[39m\u001b[39mChannelID\u001b[39m\u001b[39m'\u001b[39m][\u001b[39m.\u001b[39m\u001b[39m.\u001b[39m\u001b[39m.\u001b[39m]\n\u001b[1;32m     <a href='vscode-notebook-cell://ssh-remote%2Bg25/data/xiazy/gh2023/main/data_loader.ipynb#W4sdnNjb2RlLXJlbW90ZQ%3D%3D?line=16'>17</a>\u001b[0m PETime_ \u001b[39m=\u001b[39m data_file[\u001b[39m'\u001b[39m\u001b[39mPETruth\u001b[39m\u001b[39m'\u001b[39m][\u001b[39m'\u001b[39m\u001b[39mPETime\u001b[39m\u001b[39m'\u001b[39m][\u001b[39m.\u001b[39m\u001b[39m.\u001b[39m\u001b[39m.\u001b[39m]\n\u001b[0;32m---> <a href='vscode-notebook-cell://ssh-remote%2Bg25/data/xiazy/gh2023/main/data_loader.ipynb#W4sdnNjb2RlLXJlbW90ZQ%3D%3D?line=18'>19</a>\u001b[0m \u001b[39mfor\u001b[39;00m event_id \u001b[39min\u001b[39;00m tqdm(\u001b[39mrange\u001b[39m(event_count[data_id])):\n\u001b[1;32m     <a href='vscode-notebook-cell://ssh-remote%2Bg25/data/xiazy/gh2023/main/data_loader.ipynb#W4sdnNjb2RlLXJlbW90ZQ%3D%3D?line=19'>20</a>\u001b[0m     \u001b[39mfrom\u001b[39;00m \u001b[39mpyinstrument\u001b[39;00m \u001b[39mimport\u001b[39;00m Profiler\n\u001b[1;32m     <a href='vscode-notebook-cell://ssh-remote%2Bg25/data/xiazy/gh2023/main/data_loader.ipynb#W4sdnNjb2RlLXJlbW90ZQ%3D%3D?line=21'>22</a>\u001b[0m     profiler \u001b[39m=\u001b[39m Profiler()\n",
      "\u001b[1;32m/data/xiazy/gh2023/main/data_loader.ipynb 单元格 5\u001b[0m line \u001b[0;36m1\n\u001b[1;32m     <a href='vscode-notebook-cell://ssh-remote%2Bg25/data/xiazy/gh2023/main/data_loader.ipynb#W4sdnNjb2RlLXJlbW90ZQ%3D%3D?line=15'>16</a>\u001b[0m ChannelID_ \u001b[39m=\u001b[39m data_file[\u001b[39m'\u001b[39m\u001b[39mPETruth\u001b[39m\u001b[39m'\u001b[39m][\u001b[39m'\u001b[39m\u001b[39mChannelID\u001b[39m\u001b[39m'\u001b[39m][\u001b[39m.\u001b[39m\u001b[39m.\u001b[39m\u001b[39m.\u001b[39m]\n\u001b[1;32m     <a href='vscode-notebook-cell://ssh-remote%2Bg25/data/xiazy/gh2023/main/data_loader.ipynb#W4sdnNjb2RlLXJlbW90ZQ%3D%3D?line=16'>17</a>\u001b[0m PETime_ \u001b[39m=\u001b[39m data_file[\u001b[39m'\u001b[39m\u001b[39mPETruth\u001b[39m\u001b[39m'\u001b[39m][\u001b[39m'\u001b[39m\u001b[39mPETime\u001b[39m\u001b[39m'\u001b[39m][\u001b[39m.\u001b[39m\u001b[39m.\u001b[39m\u001b[39m.\u001b[39m]\n\u001b[0;32m---> <a href='vscode-notebook-cell://ssh-remote%2Bg25/data/xiazy/gh2023/main/data_loader.ipynb#W4sdnNjb2RlLXJlbW90ZQ%3D%3D?line=18'>19</a>\u001b[0m \u001b[39mfor\u001b[39;00m event_id \u001b[39min\u001b[39;00m tqdm(\u001b[39mrange\u001b[39m(event_count[data_id])):\n\u001b[1;32m     <a href='vscode-notebook-cell://ssh-remote%2Bg25/data/xiazy/gh2023/main/data_loader.ipynb#W4sdnNjb2RlLXJlbW90ZQ%3D%3D?line=19'>20</a>\u001b[0m     \u001b[39mfrom\u001b[39;00m \u001b[39mpyinstrument\u001b[39;00m \u001b[39mimport\u001b[39;00m Profiler\n\u001b[1;32m     <a href='vscode-notebook-cell://ssh-remote%2Bg25/data/xiazy/gh2023/main/data_loader.ipynb#W4sdnNjb2RlLXJlbW90ZQ%3D%3D?line=21'>22</a>\u001b[0m     profiler \u001b[39m=\u001b[39m Profiler()\n",
      "File \u001b[0;32m_pydevd_bundle/pydevd_cython.pyx:1457\u001b[0m, in \u001b[0;36m_pydevd_bundle.pydevd_cython.SafeCallWrapper.__call__\u001b[0;34m()\u001b[0m\n",
      "File \u001b[0;32m_pydevd_bundle/pydevd_cython.pyx:701\u001b[0m, in \u001b[0;36m_pydevd_bundle.pydevd_cython.PyDBFrame.trace_dispatch\u001b[0;34m()\u001b[0m\n",
      "File \u001b[0;32m_pydevd_bundle/pydevd_cython.pyx:1395\u001b[0m, in \u001b[0;36m_pydevd_bundle.pydevd_cython.PyDBFrame.trace_dispatch\u001b[0;34m()\u001b[0m\n",
      "File \u001b[0;32m_pydevd_bundle/pydevd_cython.pyx:1344\u001b[0m, in \u001b[0;36m_pydevd_bundle.pydevd_cython.PyDBFrame.trace_dispatch\u001b[0;34m()\u001b[0m\n",
      "File \u001b[0;32m_pydevd_bundle/pydevd_cython.pyx:312\u001b[0m, in \u001b[0;36m_pydevd_bundle.pydevd_cython.PyDBFrame.do_wait_suspend\u001b[0;34m()\u001b[0m\n",
      "File \u001b[0;32m/data/xiazy/miniconda3/lib/python3.11/site-packages/debugpy/_vendored/pydevd/pydevd.py:2070\u001b[0m, in \u001b[0;36mPyDB.do_wait_suspend\u001b[0;34m(self, thread, frame, event, arg, exception_type)\u001b[0m\n\u001b[1;32m   2067\u001b[0m             from_this_thread\u001b[39m.\u001b[39mappend(frame_custom_thread_id)\n\u001b[1;32m   2069\u001b[0m     \u001b[39mwith\u001b[39;00m \u001b[39mself\u001b[39m\u001b[39m.\u001b[39m_threads_suspended_single_notification\u001b[39m.\u001b[39mnotify_thread_suspended(thread_id, thread, stop_reason):\n\u001b[0;32m-> 2070\u001b[0m         keep_suspended \u001b[39m=\u001b[39m \u001b[39mself\u001b[39;49m\u001b[39m.\u001b[39;49m_do_wait_suspend(thread, frame, event, arg, suspend_type, from_this_thread, frames_tracker)\n\u001b[1;32m   2072\u001b[0m frames_list \u001b[39m=\u001b[39m \u001b[39mNone\u001b[39;00m\n\u001b[1;32m   2074\u001b[0m \u001b[39mif\u001b[39;00m keep_suspended:\n\u001b[1;32m   2075\u001b[0m     \u001b[39m# This means that we should pause again after a set next statement.\u001b[39;00m\n",
      "File \u001b[0;32m/data/xiazy/miniconda3/lib/python3.11/site-packages/debugpy/_vendored/pydevd/pydevd.py:2106\u001b[0m, in \u001b[0;36mPyDB._do_wait_suspend\u001b[0;34m(self, thread, frame, event, arg, suspend_type, from_this_thread, frames_tracker)\u001b[0m\n\u001b[1;32m   2103\u001b[0m         \u001b[39mself\u001b[39m\u001b[39m.\u001b[39m_call_input_hook()\n\u001b[1;32m   2105\u001b[0m     \u001b[39mself\u001b[39m\u001b[39m.\u001b[39mprocess_internal_commands()\n\u001b[0;32m-> 2106\u001b[0m     time\u001b[39m.\u001b[39msleep(\u001b[39m0.01\u001b[39m)\n\u001b[1;32m   2108\u001b[0m \u001b[39mself\u001b[39m\u001b[39m.\u001b[39mcancel_async_evaluation(get_current_thread_id(thread), \u001b[39mstr\u001b[39m(\u001b[39mid\u001b[39m(frame)))\n\u001b[1;32m   2110\u001b[0m \u001b[39m# process any stepping instructions\u001b[39;00m\n",
      "\u001b[0;31mKeyboardInterrupt\u001b[0m: "
     ]
    }
   ],
   "source": [
    "Ek_train = np.zeros(event_total)\n",
    "Evis_train = np.zeros(event_total)\n",
    "EventInfo = []\n",
    "EventImage = []\n",
    "\n",
    "# vecotrize the lookup function of geo_dict\n",
    "event_index = np.insert(np.cumsum(event_count), 0, 0)\n",
    "vectorized_lookup = np.vectorize(geo_dict.get)\n",
    "\n",
    "for data_id in range(dataset_count): # tqdm把iterator包起来，就可以实现进度条\n",
    "    with h5py.File(f'{dataset_prefix}{16930+data_id}.h5', 'r') as data_file:\n",
    "        \n",
    "        Ek_train[event_index[data_id]:event_index[data_id+1]] = data_file['ParticleTruth']['Ek'][...]\n",
    "        Evis_train[event_index[data_id]:event_index[data_id+1]] = data_file['ParticleTruth']['Evis'][...]\n",
    "        EventIDs_ = data_file['PETruth']['EventID'][...]\n",
    "        ChannelID_ = data_file['PETruth']['ChannelID'][...]\n",
    "        PETime_ = data_file['PETruth']['PETime'][...]\n",
    "        \n",
    "        for event_id in tqdm(range(event_count[data_id])):\n",
    "            profiler = Profiler()\n",
    "            profiler.start()\n",
    "            \n",
    "            indices = np.where(EventIDs_ == event_id)\n",
    "            geo_info = vectorized_lookup(ChannelID_[indices])\n",
    "            time_info = PETime_[indices]\n",
    "            event_info = np.column_stack((geo_info[0], geo_info[1] * np.sin(geo_info[0] / 180 * np.pi), time_info))\n",
    "            EventInfo.append(event_info)\n",
    "            \n",
    "            # convert data to  DataFrame\n",
    "            df = pd.DataFrame(event_info, columns=['Latitude', 'Longitude', 'Value'])\n",
    "\n",
    "            # calculate mean and count\n",
    "            grouped = df.groupby(['Latitude', 'Longitude']).agg(['mean', 'count'])\n",
    "            grouped.columns = ['_'.join(col).strip() for col in grouped.columns.values]\n",
    "\n",
    "            a = grouped[['Value_mean']].reset_index().to_numpy()\n",
    "            b = grouped[['Value_count']].reset_index().to_numpy()\n",
    "            \n",
    "            # Average arrival time\n",
    "            # plt.figure(figsize=(8, 6))\n",
    "            # plt.scatter(a[:, 1], a[:, 0], c=a[:, 2], cmap='jet', s=10)\n",
    "            # plt.colorbar(label='Average arrival time')\n",
    "            # plt.xlabel('Longitude (0-360)')\n",
    "            # plt.ylabel('Latitude (0-180)')\n",
    "            # plt.title('Average arrival time')\n",
    "            # plt.show()\n",
    "\n",
    "            def green_func(X, Y, scatter):\n",
    "                R = np.sqrt((X - scatter[:, 1, np.newaxis, np.newaxis]) ** 2 + (Y - scatter[:, 0, np.newaxis, np.newaxis]) ** 2)\n",
    "                V = scatter[:, 2, np.newaxis, np.newaxis] * np.exp(-R ** 2)\n",
    "                return np.sum(V, axis=0)\n",
    "\n",
    "\n",
    "            x = np.linspace(-180, 180, 128)\n",
    "            y = np.linspace(0, 180, 128)\n",
    "            xx, yy = np.meshgrid(x, y)\n",
    "\n",
    "            zz1 = green_func(xx, yy, a)\n",
    "            zz2 = green_func(xx, yy, b)\n",
    "            EventImage.append((zz1, zz2))\n",
    "            \n",
    "            # plt.figure(figsize=(8, 6))\n",
    "            # plt.imshow(zz1, origin='lower', cmap='jet')\n",
    "            # plt.colorbar()\n",
    "            # plt.title(\"Interpolated Arrival Time\")\n",
    "            # plt.show()\n",
    "            \n",
    "            # # Arrival count\n",
    "            # plt.figure(figsize=(8, 6))\n",
    "            # plt.scatter(b[:, 1], b[:, 0], c=b[:, 2], cmap='jet', s=10)\n",
    "            # plt.colorbar(label='Arrival count')\n",
    "            # plt.xlabel('Longitude (0-360)')\n",
    "            # plt.ylabel('Latitude (0-180)')\n",
    "            # plt.title('Arrival count')\n",
    "            # plt.show()\n",
    "            \n",
    "            # plt.figure(figsize=(8, 6))\n",
    "            # plt.imshow(zz2, origin='lower', cmap='jet')\n",
    "            # plt.colorbar()\n",
    "            # plt.title(\"Interpolated Arrival Count\")\n",
    "            # plt.show()\n",
    "            profiler.stop()\n",
    "            print(profiler.output_text(unicode=True, color=True))\n",
    "            \n",
    "\n",
    "\n"
   ]
  }
 ],
 "metadata": {
  "kernelspec": {
   "display_name": "base",
   "language": "python",
   "name": "python3"
  },
  "language_info": {
   "codemirror_mode": {
    "name": "ipython",
    "version": 3
   },
   "file_extension": ".py",
   "mimetype": "text/x-python",
   "name": "python",
   "nbconvert_exporter": "python",
   "pygments_lexer": "ipython3",
   "version": "3.11.5"
  }
 },
 "nbformat": 4,
 "nbformat_minor": 2
}
